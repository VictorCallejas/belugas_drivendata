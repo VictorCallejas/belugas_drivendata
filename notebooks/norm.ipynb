{
 "cells": [
  {
   "cell_type": "code",
   "execution_count": 1,
   "metadata": {},
   "outputs": [],
   "source": [
    "import pandas as pd \n",
    "\n",
    "from tqdm.notebook import tqdm\n",
    "\n",
    "import sys \n",
    "sys.path.append('..')"
   ]
  },
  {
   "cell_type": "code",
   "execution_count": 2,
   "metadata": {},
   "outputs": [
    {
     "name": "stdout",
     "output_type": "stream",
     "text": [
      "(5902, 9)\n"
     ]
    },
    {
     "data": {
      "text/html": [
       "<div>\n",
       "<style scoped>\n",
       "    .dataframe tbody tr th:only-of-type {\n",
       "        vertical-align: middle;\n",
       "    }\n",
       "\n",
       "    .dataframe tbody tr th {\n",
       "        vertical-align: top;\n",
       "    }\n",
       "\n",
       "    .dataframe thead th {\n",
       "        text-align: right;\n",
       "    }\n",
       "</style>\n",
       "<table border=\"1\" class=\"dataframe\">\n",
       "  <thead>\n",
       "    <tr style=\"text-align: right;\">\n",
       "      <th></th>\n",
       "      <th>image_id</th>\n",
       "      <th>path</th>\n",
       "      <th>height</th>\n",
       "      <th>width</th>\n",
       "      <th>viewpoint</th>\n",
       "      <th>date</th>\n",
       "      <th>timestamp</th>\n",
       "      <th>whale_id</th>\n",
       "      <th>encounter_id</th>\n",
       "    </tr>\n",
       "  </thead>\n",
       "  <tbody>\n",
       "    <tr>\n",
       "      <th>0</th>\n",
       "      <td>train0000</td>\n",
       "      <td>images/train0000.jpg</td>\n",
       "      <td>463</td>\n",
       "      <td>150</td>\n",
       "      <td>top</td>\n",
       "      <td>2017-08-07</td>\n",
       "      <td>2017-08-07 20:38:36</td>\n",
       "      <td>whale000</td>\n",
       "      <td>whale000-000</td>\n",
       "    </tr>\n",
       "    <tr>\n",
       "      <th>1</th>\n",
       "      <td>train0001</td>\n",
       "      <td>images/train0001.jpg</td>\n",
       "      <td>192</td>\n",
       "      <td>81</td>\n",
       "      <td>top</td>\n",
       "      <td>2019-08-05</td>\n",
       "      <td>2019-08-05 16:49:13</td>\n",
       "      <td>whale001</td>\n",
       "      <td>whale001-000</td>\n",
       "    </tr>\n",
       "    <tr>\n",
       "      <th>2</th>\n",
       "      <td>train0002</td>\n",
       "      <td>images/train0002.jpg</td>\n",
       "      <td>625</td>\n",
       "      <td>183</td>\n",
       "      <td>top</td>\n",
       "      <td>2017-08-07</td>\n",
       "      <td>2017-08-07 22:12:19</td>\n",
       "      <td>whale002</td>\n",
       "      <td>whale002-000</td>\n",
       "    </tr>\n",
       "    <tr>\n",
       "      <th>3</th>\n",
       "      <td>train0003</td>\n",
       "      <td>images/train0003.jpg</td>\n",
       "      <td>673</td>\n",
       "      <td>237</td>\n",
       "      <td>top</td>\n",
       "      <td>2017-08-07</td>\n",
       "      <td>2017-08-07 20:40:59</td>\n",
       "      <td>whale003</td>\n",
       "      <td>whale003-000</td>\n",
       "    </tr>\n",
       "    <tr>\n",
       "      <th>4</th>\n",
       "      <td>train0004</td>\n",
       "      <td>images/train0004.jpg</td>\n",
       "      <td>461</td>\n",
       "      <td>166</td>\n",
       "      <td>top</td>\n",
       "      <td>2018-08-10</td>\n",
       "      <td>2018-08-10 21:45:30</td>\n",
       "      <td>whale004</td>\n",
       "      <td>whale004-000</td>\n",
       "    </tr>\n",
       "  </tbody>\n",
       "</table>\n",
       "</div>"
      ],
      "text/plain": [
       "    image_id                  path  height  width viewpoint        date  \\\n",
       "0  train0000  images/train0000.jpg     463    150       top  2017-08-07   \n",
       "1  train0001  images/train0001.jpg     192     81       top  2019-08-05   \n",
       "2  train0002  images/train0002.jpg     625    183       top  2017-08-07   \n",
       "3  train0003  images/train0003.jpg     673    237       top  2017-08-07   \n",
       "4  train0004  images/train0004.jpg     461    166       top  2018-08-10   \n",
       "\n",
       "             timestamp  whale_id  encounter_id  \n",
       "0  2017-08-07 20:38:36  whale000  whale000-000  \n",
       "1  2019-08-05 16:49:13  whale001  whale001-000  \n",
       "2  2017-08-07 22:12:19  whale002  whale002-000  \n",
       "3  2017-08-07 20:40:59  whale003  whale003-000  \n",
       "4  2018-08-10 21:45:30  whale004  whale004-000  "
      ]
     },
     "execution_count": 2,
     "metadata": {},
     "output_type": "execute_result"
    }
   ],
   "source": [
    "metadata = pd.read_csv('../data/metadata.csv')\n",
    "print(metadata.shape)\n",
    "metadata.head()"
   ]
  },
  {
   "cell_type": "code",
   "execution_count": 24,
   "metadata": {},
   "outputs": [],
   "source": [
    "import torch\n",
    "from torchvision import transforms as T\n",
    "from torchvision.io import read_image\n",
    "\n",
    "import torch.nn as nn\n",
    "\n",
    "image_size = 256\n",
    "\n",
    "class BellugaDataset(torch.utils.data.Dataset):\n",
    "    def __init__(self, metadata):\n",
    "        \n",
    "        self.metadata = metadata\n",
    "        self.metadata['idx'] = self.metadata.index\n",
    "        \n",
    "        self.rootDir = '../data/'\n",
    "        \n",
    "        self.transforms = torch.nn.Sequential(\n",
    "            T.Resize([image_size, image_size]),\n",
    "            T.ConvertImageDtype(torch.float)\n",
    "        )\n",
    "        \n",
    "\n",
    "    def __len__(self):\n",
    "        return metadata.shape[0]\n",
    "    \n",
    "    def __getitem__(self, idx):\n",
    "\n",
    "        path = self.metadata.path[idx]\n",
    "        \n",
    "        image = self.transforms(read_image(self.rootDir + path))\n",
    "        \n",
    "        return image"
   ]
  },
  {
   "cell_type": "code",
   "execution_count": 25,
   "metadata": {},
   "outputs": [],
   "source": [
    "train_dataset = BellugaDataset(metadata)\n",
    "\n",
    "image_dataloader = torch.utils.data.DataLoader(\n",
    "                        train_dataset, \n",
    "                        batch_size=1,\n",
    "                        shuffle=True, \n",
    "                        num_workers=0\n",
    "                    )"
   ]
  },
  {
   "cell_type": "code",
   "execution_count": 26,
   "metadata": {},
   "outputs": [
    {
     "data": {
      "application/vnd.jupyter.widget-view+json": {
       "model_id": "934677cadb2e42ed94c84c44e1da0529",
       "version_major": 2,
       "version_minor": 0
      },
      "text/plain": [
       "  0%|          | 0/5902 [00:00<?, ?it/s]"
      ]
     },
     "metadata": {},
     "output_type": "display_data"
    }
   ],
   "source": [
    "####### COMPUTE MEAN / STD\n",
    "\n",
    "# placeholders\n",
    "psum    = torch.tensor([0.0, 0.0, 0.0])\n",
    "psum_sq = torch.tensor([0.0, 0.0, 0.0])\n",
    "\n",
    "# loop through images\n",
    "for inputs in tqdm(image_dataloader):\n",
    "    psum    += inputs.sum(axis        = [0, 2, 3])\n",
    "    psum_sq += (inputs ** 2).sum(axis = [0, 2, 3])"
   ]
  },
  {
   "cell_type": "code",
   "execution_count": 27,
   "metadata": {},
   "outputs": [
    {
     "name": "stdout",
     "output_type": "stream",
     "text": [
      "mean: tensor([0.4234, 0.4272, 0.4641])\n",
      "std:  tensor([0.2037, 0.2027, 0.2142])\n"
     ]
    }
   ],
   "source": [
    "####### FINAL CALCULATIONS\n",
    "\n",
    "# pixel count\n",
    "count = len(metadata) * image_size * image_size\n",
    "\n",
    "# mean and std\n",
    "total_mean = psum / count\n",
    "total_var  = (psum_sq / count) - (total_mean ** 2)\n",
    "total_std  = torch.sqrt(total_var)\n",
    "\n",
    "# output\n",
    "print('mean: '  + str(total_mean))\n",
    "print('std:  '  + str(total_std))"
   ]
  },
  {
   "cell_type": "code",
   "execution_count": 30,
   "metadata": {},
   "outputs": [
    {
     "data": {
      "text/plain": [
       "tensor([[[0.2941, 0.3098, 0.3333,  ..., 0.1961, 0.2000, 0.2039],\n",
       "         [0.3569, 0.3686, 0.3843,  ..., 0.2157, 0.2118, 0.2078],\n",
       "         [0.3961, 0.3804, 0.3569,  ..., 0.2078, 0.2118, 0.2118],\n",
       "         ...,\n",
       "         [0.9961, 0.9961, 0.9961,  ..., 0.2157, 0.2157, 0.2118],\n",
       "         [1.0000, 1.0000, 1.0000,  ..., 0.2039, 0.2078, 0.2078],\n",
       "         [1.0000, 1.0000, 1.0000,  ..., 0.1098, 0.1255, 0.1333]],\n",
       "\n",
       "        [[0.3137, 0.3294, 0.3490,  ..., 0.2039, 0.2078, 0.2118],\n",
       "         [0.3686, 0.3804, 0.3961,  ..., 0.2235, 0.2275, 0.2275],\n",
       "         [0.3922, 0.3765, 0.3529,  ..., 0.2078, 0.2157, 0.2196],\n",
       "         ...,\n",
       "         [0.9961, 0.9961, 0.9961,  ..., 0.2000, 0.2000, 0.1961],\n",
       "         [1.0000, 1.0000, 1.0000,  ..., 0.1882, 0.1922, 0.1922],\n",
       "         [1.0000, 1.0000, 1.0000,  ..., 0.1020, 0.1098, 0.1176]],\n",
       "\n",
       "        [[0.3373, 0.3529, 0.3765,  ..., 0.1922, 0.1961, 0.2000],\n",
       "         [0.3882, 0.3961, 0.4157,  ..., 0.2078, 0.2118, 0.2118],\n",
       "         [0.4118, 0.3961, 0.3725,  ..., 0.2000, 0.2039, 0.2078],\n",
       "         ...,\n",
       "         [0.9961, 0.9961, 0.9961,  ..., 0.2039, 0.2039, 0.2000],\n",
       "         [1.0000, 1.0000, 1.0000,  ..., 0.1922, 0.1961, 0.1961],\n",
       "         [1.0000, 1.0000, 1.0000,  ..., 0.1059, 0.1137, 0.1216]]])"
      ]
     },
     "execution_count": 30,
     "metadata": {},
     "output_type": "execute_result"
    }
   ],
   "source": [
    "path = metadata.path[0]\n",
    "        \n",
    "image = train_dataset.transforms(read_image('../data/' + path))\n",
    "image"
   ]
  },
  {
   "cell_type": "code",
   "execution_count": null,
   "metadata": {},
   "outputs": [],
   "source": []
  }
 ],
 "metadata": {
  "interpreter": {
   "hash": "e460829be586a745d810aec71d83684bd38b76dd3b8d2db700ccf14d30953fce"
  },
  "kernelspec": {
   "display_name": "Python 3.10.4 ('env': venv)",
   "language": "python",
   "name": "python3"
  },
  "language_info": {
   "codemirror_mode": {
    "name": "ipython",
    "version": 3
   },
   "file_extension": ".py",
   "mimetype": "text/x-python",
   "name": "python",
   "nbconvert_exporter": "python",
   "pygments_lexer": "ipython3",
   "version": "3.10.4"
  },
  "orig_nbformat": 4
 },
 "nbformat": 4,
 "nbformat_minor": 2
}
